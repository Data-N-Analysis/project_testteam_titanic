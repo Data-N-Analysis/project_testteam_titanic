{
 "cells": [
  {
   "cell_type": "code",
   "execution_count": 1,
   "metadata": {
    "colab": {
     "base_uri": "https://localhost:8080/"
    },
    "id": "r-EbDqeRSM6h",
    "outputId": "3756a44e-5c3d-48f1-ccca-0879c52ef4e6"
   },
   "outputs": [
    {
     "name": "stderr",
     "output_type": "stream",
     "text": [
      "/Users/choejeehyuk/opt/anaconda3/lib/python3.9/site-packages/xgboost/compat.py:36: FutureWarning: pandas.Int64Index is deprecated and will be removed from pandas in a future version. Use pandas.Index with the appropriate dtype instead.\n",
      "  from pandas import MultiIndex, Int64Index\n"
     ]
    }
   ],
   "source": [
    "import pandas as pd\n",
    "import numpy as np\n",
    "import math\n",
    "from sklearn import metrics\n",
    "from sklearn import preprocessing\n",
    "from sklearn.model_selection import train_test_split\n",
    "from sklearn.linear_model import LinearRegression\n",
    "from sklearn import model_selection\n",
    "from sklearn.model_selection import GridSearchCV\n",
    "import xgboost as xgb"
   ]
  },
  {
   "cell_type": "code",
   "execution_count": 2,
   "metadata": {
    "colab": {
     "base_uri": "https://localhost:8080/"
    },
    "id": "2cQCUgMJSW6i",
    "outputId": "2fcfb206-9f12-4431-91ef-181b9f1ea48d"
   },
   "outputs": [
    {
     "ename": "ModuleNotFoundError",
     "evalue": "No module named 'google.colab'",
     "output_type": "error",
     "traceback": [
      "\u001b[0;31m---------------------------------------------------------------------------\u001b[0m",
      "\u001b[0;31mModuleNotFoundError\u001b[0m                       Traceback (most recent call last)",
      "Input \u001b[0;32mIn [2]\u001b[0m, in \u001b[0;36m<cell line: 1>\u001b[0;34m()\u001b[0m\n\u001b[0;32m----> 1\u001b[0m \u001b[38;5;28;01mfrom\u001b[39;00m \u001b[38;5;21;01mgoogle\u001b[39;00m\u001b[38;5;21;01m.\u001b[39;00m\u001b[38;5;21;01mcolab\u001b[39;00m \u001b[38;5;28;01mimport\u001b[39;00m drive\n\u001b[1;32m      2\u001b[0m drive\u001b[38;5;241m.\u001b[39mmount(\u001b[38;5;124m'\u001b[39m\u001b[38;5;124m/content/drive\u001b[39m\u001b[38;5;124m'\u001b[39m)\n",
      "\u001b[0;31mModuleNotFoundError\u001b[0m: No module named 'google.colab'"
     ]
    }
   ],
   "source": [
    "from google.colab import drive\n",
    "drive.mount('/content/drive')"
   ]
  },
  {
   "cell_type": "code",
   "execution_count": 3,
   "metadata": {
    "id": "LQZ4wCaRT57X"
   },
   "outputs": [],
   "source": [
    "train_df = pd.read_csv('/Users/choejeehyuk/Untitled Folder/구내식당 식사 인원 예측 AI 경진대회_data/Embedding_train_data.csv')\n",
    "test_df = pd.read_csv('/Users/choejeehyuk/Untitled Folder/구내식당 식사 인원 예측 AI 경진대회_data/Embedding_train_data.csv')"
   ]
  },
  {
   "cell_type": "code",
   "execution_count": 4,
   "metadata": {
    "colab": {
     "base_uri": "https://localhost:8080/",
     "height": 592
    },
    "id": "4Sm1jfGcbooz",
    "outputId": "6201abf6-3ce6-4ced-be8a-bb4616fbc529"
   },
   "outputs": [
    {
     "data": {
      "text/html": [
       "<div>\n",
       "<style scoped>\n",
       "    .dataframe tbody tr th:only-of-type {\n",
       "        vertical-align: middle;\n",
       "    }\n",
       "\n",
       "    .dataframe tbody tr th {\n",
       "        vertical-align: top;\n",
       "    }\n",
       "\n",
       "    .dataframe thead th {\n",
       "        text-align: right;\n",
       "    }\n",
       "</style>\n",
       "<table border=\"1\" class=\"dataframe\">\n",
       "  <thead>\n",
       "    <tr style=\"text-align: right;\">\n",
       "      <th></th>\n",
       "      <th>일자</th>\n",
       "      <th>요일</th>\n",
       "      <th>본사정원수</th>\n",
       "      <th>본사휴가자수</th>\n",
       "      <th>본사출장자수</th>\n",
       "      <th>본사시간외근무명령서승인건수</th>\n",
       "      <th>현본사소속재택근무자수</th>\n",
       "      <th>조식메뉴</th>\n",
       "      <th>중식메뉴</th>\n",
       "      <th>석식메뉴</th>\n",
       "      <th>...</th>\n",
       "      <th>석식41</th>\n",
       "      <th>석식42</th>\n",
       "      <th>석식43</th>\n",
       "      <th>석식44</th>\n",
       "      <th>석식45</th>\n",
       "      <th>석식46</th>\n",
       "      <th>석식47</th>\n",
       "      <th>석식48</th>\n",
       "      <th>석식49</th>\n",
       "      <th>석식50</th>\n",
       "    </tr>\n",
       "  </thead>\n",
       "  <tbody>\n",
       "    <tr>\n",
       "      <th>0</th>\n",
       "      <td>2016-02-01</td>\n",
       "      <td>월</td>\n",
       "      <td>2601</td>\n",
       "      <td>50</td>\n",
       "      <td>150</td>\n",
       "      <td>238</td>\n",
       "      <td>0.0</td>\n",
       "      <td>['모닝롤', '찐빵', '우유', '두유', '주스', '계란후라이', '호두죽'...</td>\n",
       "      <td>['쌀밥', '잡곡밥', '(쌀,현미흑미:국내산)', '오징어찌개', '쇠불고기',...</td>\n",
       "      <td>['쌀밥', '잡곡밥', '(쌀,현미흑미:국내산)', '육개장', '자반고등어구이'...</td>\n",
       "      <td>...</td>\n",
       "      <td>-0.629993</td>\n",
       "      <td>0.116628</td>\n",
       "      <td>0.380194</td>\n",
       "      <td>0.250646</td>\n",
       "      <td>0.127986</td>\n",
       "      <td>0.550941</td>\n",
       "      <td>-0.815261</td>\n",
       "      <td>-0.354771</td>\n",
       "      <td>-0.467205</td>\n",
       "      <td>-0.213537</td>\n",
       "    </tr>\n",
       "    <tr>\n",
       "      <th>1</th>\n",
       "      <td>2016-02-02</td>\n",
       "      <td>화</td>\n",
       "      <td>2601</td>\n",
       "      <td>50</td>\n",
       "      <td>173</td>\n",
       "      <td>319</td>\n",
       "      <td>0.0</td>\n",
       "      <td>['모닝롤', '단호박샌드', '우유', '두유', '주스', '계란후라이', '팥...</td>\n",
       "      <td>['쌀밥', '잡곡밥', '(쌀,현미흑미:국내산)', '김치찌개', '가자미튀김',...</td>\n",
       "      <td>['콩나물밥*양념장', '(쌀,현미흑미:국내산)', '어묵국', '유산슬', '(쇠...</td>\n",
       "      <td>...</td>\n",
       "      <td>0.345553</td>\n",
       "      <td>-0.856399</td>\n",
       "      <td>0.656753</td>\n",
       "      <td>0.088266</td>\n",
       "      <td>0.068821</td>\n",
       "      <td>0.651381</td>\n",
       "      <td>-0.975017</td>\n",
       "      <td>-0.925231</td>\n",
       "      <td>-0.146614</td>\n",
       "      <td>0.405589</td>\n",
       "    </tr>\n",
       "    <tr>\n",
       "      <th>2</th>\n",
       "      <td>2016-02-03</td>\n",
       "      <td>수</td>\n",
       "      <td>2601</td>\n",
       "      <td>56</td>\n",
       "      <td>180</td>\n",
       "      <td>111</td>\n",
       "      <td>0.0</td>\n",
       "      <td>['모닝롤', '베이글', '우유', '두유', '주스', '계란후라이', '표고버...</td>\n",
       "      <td>['카레덮밥', '(쌀,현미흑미:국내산)', '팽이장국', '치킨핑거', '(닭고기...</td>\n",
       "      <td>['쌀밥', '잡곡밥', '(쌀,현미흑미:국내산)', '청국장찌개', '황태양념구이...</td>\n",
       "      <td>...</td>\n",
       "      <td>-0.123789</td>\n",
       "      <td>0.363554</td>\n",
       "      <td>0.589484</td>\n",
       "      <td>0.443573</td>\n",
       "      <td>0.274533</td>\n",
       "      <td>1.168624</td>\n",
       "      <td>-0.740611</td>\n",
       "      <td>-0.684546</td>\n",
       "      <td>0.015721</td>\n",
       "      <td>0.389435</td>\n",
       "    </tr>\n",
       "    <tr>\n",
       "      <th>3</th>\n",
       "      <td>2016-02-04</td>\n",
       "      <td>목</td>\n",
       "      <td>2601</td>\n",
       "      <td>104</td>\n",
       "      <td>220</td>\n",
       "      <td>355</td>\n",
       "      <td>0.0</td>\n",
       "      <td>['모닝롤', '토마토샌드', '우유', '두유', '주스', '계란후라이', '닭...</td>\n",
       "      <td>['쌀밥', '잡곡밥', '(쌀,현미흑미:국내산)', '쇠고기무국', '주꾸미볶음'...</td>\n",
       "      <td>['미니김밥*겨자장', '(쌀,현미흑미:국내산)', '우동', '멕시칸샐러드', '...</td>\n",
       "      <td>...</td>\n",
       "      <td>-0.132657</td>\n",
       "      <td>-0.264607</td>\n",
       "      <td>0.894339</td>\n",
       "      <td>0.100546</td>\n",
       "      <td>0.385215</td>\n",
       "      <td>2.008252</td>\n",
       "      <td>-1.461347</td>\n",
       "      <td>-1.574167</td>\n",
       "      <td>-0.453716</td>\n",
       "      <td>0.295548</td>\n",
       "    </tr>\n",
       "    <tr>\n",
       "      <th>4</th>\n",
       "      <td>2016-02-05</td>\n",
       "      <td>금</td>\n",
       "      <td>2601</td>\n",
       "      <td>278</td>\n",
       "      <td>181</td>\n",
       "      <td>34</td>\n",
       "      <td>0.0</td>\n",
       "      <td>['모닝롤', '와플', '우유', '두유', '주스', '계란후라이', '쇠고기죽...</td>\n",
       "      <td>['쌀밥', '잡곡밥', '(쌀,현미흑미:국내산)', '떡국', '돈육씨앗강정', ...</td>\n",
       "      <td>['쌀밥', '잡곡밥', '(쌀,현미흑미:국내산)', '차돌박이찌개', '(쇠고기:...</td>\n",
       "      <td>...</td>\n",
       "      <td>-0.230097</td>\n",
       "      <td>-0.053875</td>\n",
       "      <td>0.805636</td>\n",
       "      <td>0.803612</td>\n",
       "      <td>0.086424</td>\n",
       "      <td>0.482092</td>\n",
       "      <td>-1.044789</td>\n",
       "      <td>-0.500920</td>\n",
       "      <td>0.028591</td>\n",
       "      <td>-0.010523</td>\n",
       "    </tr>\n",
       "  </tbody>\n",
       "</table>\n",
       "<p>5 rows × 162 columns</p>\n",
       "</div>"
      ],
      "text/plain": [
       "           일자 요일  본사정원수  본사휴가자수  본사출장자수  본사시간외근무명령서승인건수  현본사소속재택근무자수  \\\n",
       "0  2016-02-01  월   2601      50     150             238          0.0   \n",
       "1  2016-02-02  화   2601      50     173             319          0.0   \n",
       "2  2016-02-03  수   2601      56     180             111          0.0   \n",
       "3  2016-02-04  목   2601     104     220             355          0.0   \n",
       "4  2016-02-05  금   2601     278     181              34          0.0   \n",
       "\n",
       "                                                조식메뉴  \\\n",
       "0  ['모닝롤', '찐빵', '우유', '두유', '주스', '계란후라이', '호두죽'...   \n",
       "1  ['모닝롤', '단호박샌드', '우유', '두유', '주스', '계란후라이', '팥...   \n",
       "2  ['모닝롤', '베이글', '우유', '두유', '주스', '계란후라이', '표고버...   \n",
       "3  ['모닝롤', '토마토샌드', '우유', '두유', '주스', '계란후라이', '닭...   \n",
       "4  ['모닝롤', '와플', '우유', '두유', '주스', '계란후라이', '쇠고기죽...   \n",
       "\n",
       "                                                중식메뉴  \\\n",
       "0  ['쌀밥', '잡곡밥', '(쌀,현미흑미:국내산)', '오징어찌개', '쇠불고기',...   \n",
       "1  ['쌀밥', '잡곡밥', '(쌀,현미흑미:국내산)', '김치찌개', '가자미튀김',...   \n",
       "2  ['카레덮밥', '(쌀,현미흑미:국내산)', '팽이장국', '치킨핑거', '(닭고기...   \n",
       "3  ['쌀밥', '잡곡밥', '(쌀,현미흑미:국내산)', '쇠고기무국', '주꾸미볶음'...   \n",
       "4  ['쌀밥', '잡곡밥', '(쌀,현미흑미:국내산)', '떡국', '돈육씨앗강정', ...   \n",
       "\n",
       "                                                석식메뉴  ...      석식41      석식42  \\\n",
       "0  ['쌀밥', '잡곡밥', '(쌀,현미흑미:국내산)', '육개장', '자반고등어구이'...  ... -0.629993  0.116628   \n",
       "1  ['콩나물밥*양념장', '(쌀,현미흑미:국내산)', '어묵국', '유산슬', '(쇠...  ...  0.345553 -0.856399   \n",
       "2  ['쌀밥', '잡곡밥', '(쌀,현미흑미:국내산)', '청국장찌개', '황태양념구이...  ... -0.123789  0.363554   \n",
       "3  ['미니김밥*겨자장', '(쌀,현미흑미:국내산)', '우동', '멕시칸샐러드', '...  ... -0.132657 -0.264607   \n",
       "4  ['쌀밥', '잡곡밥', '(쌀,현미흑미:국내산)', '차돌박이찌개', '(쇠고기:...  ... -0.230097 -0.053875   \n",
       "\n",
       "       석식43      석식44      석식45      석식46      석식47      석식48      석식49  \\\n",
       "0  0.380194  0.250646  0.127986  0.550941 -0.815261 -0.354771 -0.467205   \n",
       "1  0.656753  0.088266  0.068821  0.651381 -0.975017 -0.925231 -0.146614   \n",
       "2  0.589484  0.443573  0.274533  1.168624 -0.740611 -0.684546  0.015721   \n",
       "3  0.894339  0.100546  0.385215  2.008252 -1.461347 -1.574167 -0.453716   \n",
       "4  0.805636  0.803612  0.086424  0.482092 -1.044789 -0.500920  0.028591   \n",
       "\n",
       "       석식50  \n",
       "0 -0.213537  \n",
       "1  0.405589  \n",
       "2  0.389435  \n",
       "3  0.295548  \n",
       "4 -0.010523  \n",
       "\n",
       "[5 rows x 162 columns]"
      ]
     },
     "execution_count": 4,
     "metadata": {},
     "output_type": "execute_result"
    }
   ],
   "source": [
    "train_df.head()"
   ]
  },
  {
   "cell_type": "code",
   "execution_count": 5,
   "metadata": {
    "colab": {
     "base_uri": "https://localhost:8080/",
     "height": 383
    },
    "id": "LjW23g3JdHrC",
    "outputId": "6ce0637d-1cc0-46ef-85c9-bd5b5d4ac6c5"
   },
   "outputs": [
    {
     "data": {
      "text/html": [
       "<div>\n",
       "<style scoped>\n",
       "    .dataframe tbody tr th:only-of-type {\n",
       "        vertical-align: middle;\n",
       "    }\n",
       "\n",
       "    .dataframe tbody tr th {\n",
       "        vertical-align: top;\n",
       "    }\n",
       "\n",
       "    .dataframe thead th {\n",
       "        text-align: right;\n",
       "    }\n",
       "</style>\n",
       "<table border=\"1\" class=\"dataframe\">\n",
       "  <thead>\n",
       "    <tr style=\"text-align: right;\">\n",
       "      <th></th>\n",
       "      <th>일자</th>\n",
       "      <th>요일</th>\n",
       "      <th>본사정원수</th>\n",
       "      <th>본사휴가자수</th>\n",
       "      <th>본사출장자수</th>\n",
       "      <th>본사시간외근무명령서승인건수</th>\n",
       "      <th>현본사소속재택근무자수</th>\n",
       "      <th>중식계</th>\n",
       "      <th>석식계</th>\n",
       "      <th>조식1</th>\n",
       "      <th>...</th>\n",
       "      <th>석식41</th>\n",
       "      <th>석식42</th>\n",
       "      <th>석식43</th>\n",
       "      <th>석식44</th>\n",
       "      <th>석식45</th>\n",
       "      <th>석식46</th>\n",
       "      <th>석식47</th>\n",
       "      <th>석식48</th>\n",
       "      <th>석식49</th>\n",
       "      <th>석식50</th>\n",
       "    </tr>\n",
       "  </thead>\n",
       "  <tbody>\n",
       "    <tr>\n",
       "      <th>0</th>\n",
       "      <td>2016-02-01</td>\n",
       "      <td>월</td>\n",
       "      <td>2601</td>\n",
       "      <td>50</td>\n",
       "      <td>150</td>\n",
       "      <td>238</td>\n",
       "      <td>0.0</td>\n",
       "      <td>1039.0</td>\n",
       "      <td>331.0</td>\n",
       "      <td>0.155443</td>\n",
       "      <td>...</td>\n",
       "      <td>-0.629993</td>\n",
       "      <td>0.116628</td>\n",
       "      <td>0.380194</td>\n",
       "      <td>0.250646</td>\n",
       "      <td>0.127986</td>\n",
       "      <td>0.550941</td>\n",
       "      <td>-0.815261</td>\n",
       "      <td>-0.354771</td>\n",
       "      <td>-0.467205</td>\n",
       "      <td>-0.213537</td>\n",
       "    </tr>\n",
       "    <tr>\n",
       "      <th>1</th>\n",
       "      <td>2016-02-02</td>\n",
       "      <td>화</td>\n",
       "      <td>2601</td>\n",
       "      <td>50</td>\n",
       "      <td>173</td>\n",
       "      <td>319</td>\n",
       "      <td>0.0</td>\n",
       "      <td>867.0</td>\n",
       "      <td>560.0</td>\n",
       "      <td>0.411054</td>\n",
       "      <td>...</td>\n",
       "      <td>0.345553</td>\n",
       "      <td>-0.856399</td>\n",
       "      <td>0.656753</td>\n",
       "      <td>0.088266</td>\n",
       "      <td>0.068821</td>\n",
       "      <td>0.651381</td>\n",
       "      <td>-0.975017</td>\n",
       "      <td>-0.925231</td>\n",
       "      <td>-0.146614</td>\n",
       "      <td>0.405589</td>\n",
       "    </tr>\n",
       "    <tr>\n",
       "      <th>2</th>\n",
       "      <td>2016-02-03</td>\n",
       "      <td>수</td>\n",
       "      <td>2601</td>\n",
       "      <td>56</td>\n",
       "      <td>180</td>\n",
       "      <td>111</td>\n",
       "      <td>0.0</td>\n",
       "      <td>1017.0</td>\n",
       "      <td>573.0</td>\n",
       "      <td>0.257978</td>\n",
       "      <td>...</td>\n",
       "      <td>-0.123789</td>\n",
       "      <td>0.363554</td>\n",
       "      <td>0.589484</td>\n",
       "      <td>0.443573</td>\n",
       "      <td>0.274533</td>\n",
       "      <td>1.168624</td>\n",
       "      <td>-0.740611</td>\n",
       "      <td>-0.684546</td>\n",
       "      <td>0.015721</td>\n",
       "      <td>0.389435</td>\n",
       "    </tr>\n",
       "    <tr>\n",
       "      <th>3</th>\n",
       "      <td>2016-02-04</td>\n",
       "      <td>목</td>\n",
       "      <td>2601</td>\n",
       "      <td>104</td>\n",
       "      <td>220</td>\n",
       "      <td>355</td>\n",
       "      <td>0.0</td>\n",
       "      <td>978.0</td>\n",
       "      <td>525.0</td>\n",
       "      <td>0.515096</td>\n",
       "      <td>...</td>\n",
       "      <td>-0.132657</td>\n",
       "      <td>-0.264607</td>\n",
       "      <td>0.894339</td>\n",
       "      <td>0.100546</td>\n",
       "      <td>0.385215</td>\n",
       "      <td>2.008252</td>\n",
       "      <td>-1.461347</td>\n",
       "      <td>-1.574167</td>\n",
       "      <td>-0.453716</td>\n",
       "      <td>0.295548</td>\n",
       "    </tr>\n",
       "    <tr>\n",
       "      <th>4</th>\n",
       "      <td>2016-02-05</td>\n",
       "      <td>금</td>\n",
       "      <td>2601</td>\n",
       "      <td>278</td>\n",
       "      <td>181</td>\n",
       "      <td>34</td>\n",
       "      <td>0.0</td>\n",
       "      <td>925.0</td>\n",
       "      <td>330.0</td>\n",
       "      <td>0.342847</td>\n",
       "      <td>...</td>\n",
       "      <td>-0.230097</td>\n",
       "      <td>-0.053875</td>\n",
       "      <td>0.805636</td>\n",
       "      <td>0.803612</td>\n",
       "      <td>0.086424</td>\n",
       "      <td>0.482092</td>\n",
       "      <td>-1.044789</td>\n",
       "      <td>-0.500920</td>\n",
       "      <td>0.028591</td>\n",
       "      <td>-0.010523</td>\n",
       "    </tr>\n",
       "  </tbody>\n",
       "</table>\n",
       "<p>5 rows × 159 columns</p>\n",
       "</div>"
      ],
      "text/plain": [
       "           일자 요일  본사정원수  본사휴가자수  본사출장자수  본사시간외근무명령서승인건수  현본사소속재택근무자수     중식계  \\\n",
       "0  2016-02-01  월   2601      50     150             238          0.0  1039.0   \n",
       "1  2016-02-02  화   2601      50     173             319          0.0   867.0   \n",
       "2  2016-02-03  수   2601      56     180             111          0.0  1017.0   \n",
       "3  2016-02-04  목   2601     104     220             355          0.0   978.0   \n",
       "4  2016-02-05  금   2601     278     181              34          0.0   925.0   \n",
       "\n",
       "     석식계       조식1  ...      석식41      석식42      석식43      석식44      석식45  \\\n",
       "0  331.0  0.155443  ... -0.629993  0.116628  0.380194  0.250646  0.127986   \n",
       "1  560.0  0.411054  ...  0.345553 -0.856399  0.656753  0.088266  0.068821   \n",
       "2  573.0  0.257978  ... -0.123789  0.363554  0.589484  0.443573  0.274533   \n",
       "3  525.0  0.515096  ... -0.132657 -0.264607  0.894339  0.100546  0.385215   \n",
       "4  330.0  0.342847  ... -0.230097 -0.053875  0.805636  0.803612  0.086424   \n",
       "\n",
       "       석식46      석식47      석식48      석식49      석식50  \n",
       "0  0.550941 -0.815261 -0.354771 -0.467205 -0.213537  \n",
       "1  0.651381 -0.975017 -0.925231 -0.146614  0.405589  \n",
       "2  1.168624 -0.740611 -0.684546  0.015721  0.389435  \n",
       "3  2.008252 -1.461347 -1.574167 -0.453716  0.295548  \n",
       "4  0.482092 -1.044789 -0.500920  0.028591 -0.010523  \n",
       "\n",
       "[5 rows x 159 columns]"
      ]
     },
     "execution_count": 5,
     "metadata": {},
     "output_type": "execute_result"
    }
   ],
   "source": [
    "train_df = train_df.drop(['조식메뉴','중식메뉴','석식메뉴'], axis = 1)\n",
    "train_df.head()"
   ]
  },
  {
   "cell_type": "code",
   "execution_count": 6,
   "metadata": {
    "colab": {
     "base_uri": "https://localhost:8080/",
     "height": 383
    },
    "id": "eV0ioFKThK-M",
    "outputId": "9f90441b-b805-466a-bdab-ad91a966fcb4"
   },
   "outputs": [
    {
     "data": {
      "text/html": [
       "<div>\n",
       "<style scoped>\n",
       "    .dataframe tbody tr th:only-of-type {\n",
       "        vertical-align: middle;\n",
       "    }\n",
       "\n",
       "    .dataframe tbody tr th {\n",
       "        vertical-align: top;\n",
       "    }\n",
       "\n",
       "    .dataframe thead th {\n",
       "        text-align: right;\n",
       "    }\n",
       "</style>\n",
       "<table border=\"1\" class=\"dataframe\">\n",
       "  <thead>\n",
       "    <tr style=\"text-align: right;\">\n",
       "      <th></th>\n",
       "      <th>일자</th>\n",
       "      <th>요일</th>\n",
       "      <th>본사정원수</th>\n",
       "      <th>본사휴가자수</th>\n",
       "      <th>본사출장자수</th>\n",
       "      <th>본사시간외근무명령서승인건수</th>\n",
       "      <th>현본사소속재택근무자수</th>\n",
       "      <th>중식계</th>\n",
       "      <th>석식계</th>\n",
       "      <th>조식1</th>\n",
       "      <th>...</th>\n",
       "      <th>석식41</th>\n",
       "      <th>석식42</th>\n",
       "      <th>석식43</th>\n",
       "      <th>석식44</th>\n",
       "      <th>석식45</th>\n",
       "      <th>석식46</th>\n",
       "      <th>석식47</th>\n",
       "      <th>석식48</th>\n",
       "      <th>석식49</th>\n",
       "      <th>석식50</th>\n",
       "    </tr>\n",
       "  </thead>\n",
       "  <tbody>\n",
       "    <tr>\n",
       "      <th>0</th>\n",
       "      <td>2016-02-01</td>\n",
       "      <td>월</td>\n",
       "      <td>2601</td>\n",
       "      <td>50</td>\n",
       "      <td>150</td>\n",
       "      <td>238</td>\n",
       "      <td>0.0</td>\n",
       "      <td>1039.0</td>\n",
       "      <td>331.0</td>\n",
       "      <td>0.155443</td>\n",
       "      <td>...</td>\n",
       "      <td>-0.629993</td>\n",
       "      <td>0.116628</td>\n",
       "      <td>0.380194</td>\n",
       "      <td>0.250646</td>\n",
       "      <td>0.127986</td>\n",
       "      <td>0.550941</td>\n",
       "      <td>-0.815261</td>\n",
       "      <td>-0.354771</td>\n",
       "      <td>-0.467205</td>\n",
       "      <td>-0.213537</td>\n",
       "    </tr>\n",
       "    <tr>\n",
       "      <th>1</th>\n",
       "      <td>2016-02-02</td>\n",
       "      <td>화</td>\n",
       "      <td>2601</td>\n",
       "      <td>50</td>\n",
       "      <td>173</td>\n",
       "      <td>319</td>\n",
       "      <td>0.0</td>\n",
       "      <td>867.0</td>\n",
       "      <td>560.0</td>\n",
       "      <td>0.411054</td>\n",
       "      <td>...</td>\n",
       "      <td>0.345553</td>\n",
       "      <td>-0.856399</td>\n",
       "      <td>0.656753</td>\n",
       "      <td>0.088266</td>\n",
       "      <td>0.068821</td>\n",
       "      <td>0.651381</td>\n",
       "      <td>-0.975017</td>\n",
       "      <td>-0.925231</td>\n",
       "      <td>-0.146614</td>\n",
       "      <td>0.405589</td>\n",
       "    </tr>\n",
       "    <tr>\n",
       "      <th>2</th>\n",
       "      <td>2016-02-03</td>\n",
       "      <td>수</td>\n",
       "      <td>2601</td>\n",
       "      <td>56</td>\n",
       "      <td>180</td>\n",
       "      <td>111</td>\n",
       "      <td>0.0</td>\n",
       "      <td>1017.0</td>\n",
       "      <td>573.0</td>\n",
       "      <td>0.257978</td>\n",
       "      <td>...</td>\n",
       "      <td>-0.123789</td>\n",
       "      <td>0.363554</td>\n",
       "      <td>0.589484</td>\n",
       "      <td>0.443573</td>\n",
       "      <td>0.274533</td>\n",
       "      <td>1.168624</td>\n",
       "      <td>-0.740611</td>\n",
       "      <td>-0.684546</td>\n",
       "      <td>0.015721</td>\n",
       "      <td>0.389435</td>\n",
       "    </tr>\n",
       "    <tr>\n",
       "      <th>3</th>\n",
       "      <td>2016-02-04</td>\n",
       "      <td>목</td>\n",
       "      <td>2601</td>\n",
       "      <td>104</td>\n",
       "      <td>220</td>\n",
       "      <td>355</td>\n",
       "      <td>0.0</td>\n",
       "      <td>978.0</td>\n",
       "      <td>525.0</td>\n",
       "      <td>0.515096</td>\n",
       "      <td>...</td>\n",
       "      <td>-0.132657</td>\n",
       "      <td>-0.264607</td>\n",
       "      <td>0.894339</td>\n",
       "      <td>0.100546</td>\n",
       "      <td>0.385215</td>\n",
       "      <td>2.008252</td>\n",
       "      <td>-1.461347</td>\n",
       "      <td>-1.574167</td>\n",
       "      <td>-0.453716</td>\n",
       "      <td>0.295548</td>\n",
       "    </tr>\n",
       "    <tr>\n",
       "      <th>4</th>\n",
       "      <td>2016-02-05</td>\n",
       "      <td>금</td>\n",
       "      <td>2601</td>\n",
       "      <td>278</td>\n",
       "      <td>181</td>\n",
       "      <td>34</td>\n",
       "      <td>0.0</td>\n",
       "      <td>925.0</td>\n",
       "      <td>330.0</td>\n",
       "      <td>0.342847</td>\n",
       "      <td>...</td>\n",
       "      <td>-0.230097</td>\n",
       "      <td>-0.053875</td>\n",
       "      <td>0.805636</td>\n",
       "      <td>0.803612</td>\n",
       "      <td>0.086424</td>\n",
       "      <td>0.482092</td>\n",
       "      <td>-1.044789</td>\n",
       "      <td>-0.500920</td>\n",
       "      <td>0.028591</td>\n",
       "      <td>-0.010523</td>\n",
       "    </tr>\n",
       "  </tbody>\n",
       "</table>\n",
       "<p>5 rows × 159 columns</p>\n",
       "</div>"
      ],
      "text/plain": [
       "           일자 요일  본사정원수  본사휴가자수  본사출장자수  본사시간외근무명령서승인건수  현본사소속재택근무자수     중식계  \\\n",
       "0  2016-02-01  월   2601      50     150             238          0.0  1039.0   \n",
       "1  2016-02-02  화   2601      50     173             319          0.0   867.0   \n",
       "2  2016-02-03  수   2601      56     180             111          0.0  1017.0   \n",
       "3  2016-02-04  목   2601     104     220             355          0.0   978.0   \n",
       "4  2016-02-05  금   2601     278     181              34          0.0   925.0   \n",
       "\n",
       "     석식계       조식1  ...      석식41      석식42      석식43      석식44      석식45  \\\n",
       "0  331.0  0.155443  ... -0.629993  0.116628  0.380194  0.250646  0.127986   \n",
       "1  560.0  0.411054  ...  0.345553 -0.856399  0.656753  0.088266  0.068821   \n",
       "2  573.0  0.257978  ... -0.123789  0.363554  0.589484  0.443573  0.274533   \n",
       "3  525.0  0.515096  ... -0.132657 -0.264607  0.894339  0.100546  0.385215   \n",
       "4  330.0  0.342847  ... -0.230097 -0.053875  0.805636  0.803612  0.086424   \n",
       "\n",
       "       석식46      석식47      석식48      석식49      석식50  \n",
       "0  0.550941 -0.815261 -0.354771 -0.467205 -0.213537  \n",
       "1  0.651381 -0.975017 -0.925231 -0.146614  0.405589  \n",
       "2  1.168624 -0.740611 -0.684546  0.015721  0.389435  \n",
       "3  2.008252 -1.461347 -1.574167 -0.453716  0.295548  \n",
       "4  0.482092 -1.044789 -0.500920  0.028591 -0.010523  \n",
       "\n",
       "[5 rows x 159 columns]"
      ]
     },
     "execution_count": 6,
     "metadata": {},
     "output_type": "execute_result"
    }
   ],
   "source": [
    "test_df = test_df.drop(['조식메뉴','중식메뉴','석식메뉴'], axis = 1)\n",
    "test_df.head()"
   ]
  },
  {
   "cell_type": "code",
   "execution_count": 7,
   "metadata": {
    "id": "cqW3t-Z0fy7s"
   },
   "outputs": [],
   "source": [
    "train_df = train_df.rename(columns = {'일자':'date','요일':'week'})\n",
    "test_df = test_df.rename(columns = {'일자':'date','요일':'week'})"
   ]
  },
  {
   "cell_type": "code",
   "execution_count": 8,
   "metadata": {
    "colab": {
     "base_uri": "https://localhost:8080/",
     "height": 237
    },
    "id": "uRstGwygiCbW",
    "outputId": "160a873e-6064-468c-f5f4-c602e6664123"
   },
   "outputs": [
    {
     "data": {
      "text/html": [
       "<div>\n",
       "<style scoped>\n",
       "    .dataframe tbody tr th:only-of-type {\n",
       "        vertical-align: middle;\n",
       "    }\n",
       "\n",
       "    .dataframe tbody tr th {\n",
       "        vertical-align: top;\n",
       "    }\n",
       "\n",
       "    .dataframe thead th {\n",
       "        text-align: right;\n",
       "    }\n",
       "</style>\n",
       "<table border=\"1\" class=\"dataframe\">\n",
       "  <thead>\n",
       "    <tr style=\"text-align: right;\">\n",
       "      <th></th>\n",
       "      <th>date</th>\n",
       "      <th>week</th>\n",
       "      <th>본사정원수</th>\n",
       "      <th>본사휴가자수</th>\n",
       "      <th>본사출장자수</th>\n",
       "      <th>본사시간외근무명령서승인건수</th>\n",
       "      <th>현본사소속재택근무자수</th>\n",
       "      <th>중식계</th>\n",
       "      <th>석식계</th>\n",
       "      <th>조식1</th>\n",
       "      <th>...</th>\n",
       "      <th>석식41</th>\n",
       "      <th>석식42</th>\n",
       "      <th>석식43</th>\n",
       "      <th>석식44</th>\n",
       "      <th>석식45</th>\n",
       "      <th>석식46</th>\n",
       "      <th>석식47</th>\n",
       "      <th>석식48</th>\n",
       "      <th>석식49</th>\n",
       "      <th>석식50</th>\n",
       "    </tr>\n",
       "  </thead>\n",
       "  <tbody>\n",
       "    <tr>\n",
       "      <th>0</th>\n",
       "      <td>2016-02-01</td>\n",
       "      <td>월</td>\n",
       "      <td>2601</td>\n",
       "      <td>50</td>\n",
       "      <td>150</td>\n",
       "      <td>238</td>\n",
       "      <td>0.0</td>\n",
       "      <td>1039.0</td>\n",
       "      <td>331.0</td>\n",
       "      <td>0.155443</td>\n",
       "      <td>...</td>\n",
       "      <td>-0.629993</td>\n",
       "      <td>0.116628</td>\n",
       "      <td>0.380194</td>\n",
       "      <td>0.250646</td>\n",
       "      <td>0.127986</td>\n",
       "      <td>0.550941</td>\n",
       "      <td>-0.815261</td>\n",
       "      <td>-0.354771</td>\n",
       "      <td>-0.467205</td>\n",
       "      <td>-0.213537</td>\n",
       "    </tr>\n",
       "    <tr>\n",
       "      <th>1</th>\n",
       "      <td>2016-02-02</td>\n",
       "      <td>화</td>\n",
       "      <td>2601</td>\n",
       "      <td>50</td>\n",
       "      <td>173</td>\n",
       "      <td>319</td>\n",
       "      <td>0.0</td>\n",
       "      <td>867.0</td>\n",
       "      <td>560.0</td>\n",
       "      <td>0.411054</td>\n",
       "      <td>...</td>\n",
       "      <td>0.345553</td>\n",
       "      <td>-0.856399</td>\n",
       "      <td>0.656753</td>\n",
       "      <td>0.088266</td>\n",
       "      <td>0.068821</td>\n",
       "      <td>0.651381</td>\n",
       "      <td>-0.975017</td>\n",
       "      <td>-0.925231</td>\n",
       "      <td>-0.146614</td>\n",
       "      <td>0.405589</td>\n",
       "    </tr>\n",
       "  </tbody>\n",
       "</table>\n",
       "<p>2 rows × 159 columns</p>\n",
       "</div>"
      ],
      "text/plain": [
       "         date week  본사정원수  본사휴가자수  본사출장자수  본사시간외근무명령서승인건수  현본사소속재택근무자수  \\\n",
       "0  2016-02-01    월   2601      50     150             238          0.0   \n",
       "1  2016-02-02    화   2601      50     173             319          0.0   \n",
       "\n",
       "      중식계    석식계       조식1  ...      석식41      석식42      석식43      석식44  \\\n",
       "0  1039.0  331.0  0.155443  ... -0.629993  0.116628  0.380194  0.250646   \n",
       "1   867.0  560.0  0.411054  ...  0.345553 -0.856399  0.656753  0.088266   \n",
       "\n",
       "       석식45      석식46      석식47      석식48      석식49      석식50  \n",
       "0  0.127986  0.550941 -0.815261 -0.354771 -0.467205 -0.213537  \n",
       "1  0.068821  0.651381 -0.975017 -0.925231 -0.146614  0.405589  \n",
       "\n",
       "[2 rows x 159 columns]"
      ]
     },
     "execution_count": 8,
     "metadata": {},
     "output_type": "execute_result"
    }
   ],
   "source": [
    "train_df.head(2)"
   ]
  },
  {
   "cell_type": "code",
   "execution_count": 9,
   "metadata": {
    "id": "Fa2sRj5JhU3c"
   },
   "outputs": [],
   "source": [
    "from pandas.core.common import temp_setattr\n",
    "train_df['year'] = pd.to_datetime(train_df['date']).dt.year.astype(int)\n",
    "train_df['month'] = pd.to_datetime(train_df['date']).dt.month.astype(int)\n",
    "train_df['day'] = pd.to_datetime(train_df['date']).dt.day.astype(int)\n",
    "\n",
    "test_df['year'] = pd.to_datetime(test_df['date']).dt.year.astype(int)\n",
    "test_df['month'] = pd.to_datetime(test_df['date']).dt.month.astype(int)\n",
    "test_df['day'] = pd.to_datetime(test_df['date']).dt.day.astype(int)"
   ]
  },
  {
   "cell_type": "code",
   "execution_count": 10,
   "metadata": {
    "colab": {
     "base_uri": "https://localhost:8080/",
     "height": 237
    },
    "id": "2cWpDs8Ci0nS",
    "outputId": "62314399-ecde-4887-a6ed-cd2b3c98ec22"
   },
   "outputs": [
    {
     "data": {
      "text/html": [
       "<div>\n",
       "<style scoped>\n",
       "    .dataframe tbody tr th:only-of-type {\n",
       "        vertical-align: middle;\n",
       "    }\n",
       "\n",
       "    .dataframe tbody tr th {\n",
       "        vertical-align: top;\n",
       "    }\n",
       "\n",
       "    .dataframe thead th {\n",
       "        text-align: right;\n",
       "    }\n",
       "</style>\n",
       "<table border=\"1\" class=\"dataframe\">\n",
       "  <thead>\n",
       "    <tr style=\"text-align: right;\">\n",
       "      <th></th>\n",
       "      <th>date</th>\n",
       "      <th>week</th>\n",
       "      <th>본사정원수</th>\n",
       "      <th>본사휴가자수</th>\n",
       "      <th>본사출장자수</th>\n",
       "      <th>본사시간외근무명령서승인건수</th>\n",
       "      <th>현본사소속재택근무자수</th>\n",
       "      <th>중식계</th>\n",
       "      <th>석식계</th>\n",
       "      <th>조식1</th>\n",
       "      <th>...</th>\n",
       "      <th>석식44</th>\n",
       "      <th>석식45</th>\n",
       "      <th>석식46</th>\n",
       "      <th>석식47</th>\n",
       "      <th>석식48</th>\n",
       "      <th>석식49</th>\n",
       "      <th>석식50</th>\n",
       "      <th>year</th>\n",
       "      <th>month</th>\n",
       "      <th>day</th>\n",
       "    </tr>\n",
       "  </thead>\n",
       "  <tbody>\n",
       "    <tr>\n",
       "      <th>0</th>\n",
       "      <td>2016-02-01</td>\n",
       "      <td>월</td>\n",
       "      <td>2601</td>\n",
       "      <td>50</td>\n",
       "      <td>150</td>\n",
       "      <td>238</td>\n",
       "      <td>0.0</td>\n",
       "      <td>1039.0</td>\n",
       "      <td>331.0</td>\n",
       "      <td>0.155443</td>\n",
       "      <td>...</td>\n",
       "      <td>0.250646</td>\n",
       "      <td>0.127986</td>\n",
       "      <td>0.550941</td>\n",
       "      <td>-0.815261</td>\n",
       "      <td>-0.354771</td>\n",
       "      <td>-0.467205</td>\n",
       "      <td>-0.213537</td>\n",
       "      <td>2016</td>\n",
       "      <td>2</td>\n",
       "      <td>1</td>\n",
       "    </tr>\n",
       "    <tr>\n",
       "      <th>1</th>\n",
       "      <td>2016-02-02</td>\n",
       "      <td>화</td>\n",
       "      <td>2601</td>\n",
       "      <td>50</td>\n",
       "      <td>173</td>\n",
       "      <td>319</td>\n",
       "      <td>0.0</td>\n",
       "      <td>867.0</td>\n",
       "      <td>560.0</td>\n",
       "      <td>0.411054</td>\n",
       "      <td>...</td>\n",
       "      <td>0.088266</td>\n",
       "      <td>0.068821</td>\n",
       "      <td>0.651381</td>\n",
       "      <td>-0.975017</td>\n",
       "      <td>-0.925231</td>\n",
       "      <td>-0.146614</td>\n",
       "      <td>0.405589</td>\n",
       "      <td>2016</td>\n",
       "      <td>2</td>\n",
       "      <td>2</td>\n",
       "    </tr>\n",
       "  </tbody>\n",
       "</table>\n",
       "<p>2 rows × 162 columns</p>\n",
       "</div>"
      ],
      "text/plain": [
       "         date week  본사정원수  본사휴가자수  본사출장자수  본사시간외근무명령서승인건수  현본사소속재택근무자수  \\\n",
       "0  2016-02-01    월   2601      50     150             238          0.0   \n",
       "1  2016-02-02    화   2601      50     173             319          0.0   \n",
       "\n",
       "      중식계    석식계       조식1  ...      석식44      석식45      석식46      석식47  \\\n",
       "0  1039.0  331.0  0.155443  ...  0.250646  0.127986  0.550941 -0.815261   \n",
       "1   867.0  560.0  0.411054  ...  0.088266  0.068821  0.651381 -0.975017   \n",
       "\n",
       "       석식48      석식49      석식50  year  month  day  \n",
       "0 -0.354771 -0.467205 -0.213537  2016      2    1  \n",
       "1 -0.925231 -0.146614  0.405589  2016      2    2  \n",
       "\n",
       "[2 rows x 162 columns]"
      ]
     },
     "execution_count": 10,
     "metadata": {},
     "output_type": "execute_result"
    }
   ],
   "source": [
    "train_df.head(2)"
   ]
  },
  {
   "cell_type": "code",
   "execution_count": 11,
   "metadata": {
    "colab": {
     "base_uri": "https://localhost:8080/",
     "height": 237
    },
    "id": "ryix8RV0i88y",
    "outputId": "384bb309-a970-4e9f-850b-6110693c16b7"
   },
   "outputs": [
    {
     "data": {
      "text/html": [
       "<div>\n",
       "<style scoped>\n",
       "    .dataframe tbody tr th:only-of-type {\n",
       "        vertical-align: middle;\n",
       "    }\n",
       "\n",
       "    .dataframe tbody tr th {\n",
       "        vertical-align: top;\n",
       "    }\n",
       "\n",
       "    .dataframe thead th {\n",
       "        text-align: right;\n",
       "    }\n",
       "</style>\n",
       "<table border=\"1\" class=\"dataframe\">\n",
       "  <thead>\n",
       "    <tr style=\"text-align: right;\">\n",
       "      <th></th>\n",
       "      <th>date</th>\n",
       "      <th>week</th>\n",
       "      <th>본사정원수</th>\n",
       "      <th>본사휴가자수</th>\n",
       "      <th>본사출장자수</th>\n",
       "      <th>본사시간외근무명령서승인건수</th>\n",
       "      <th>현본사소속재택근무자수</th>\n",
       "      <th>중식계</th>\n",
       "      <th>석식계</th>\n",
       "      <th>조식1</th>\n",
       "      <th>...</th>\n",
       "      <th>석식44</th>\n",
       "      <th>석식45</th>\n",
       "      <th>석식46</th>\n",
       "      <th>석식47</th>\n",
       "      <th>석식48</th>\n",
       "      <th>석식49</th>\n",
       "      <th>석식50</th>\n",
       "      <th>year</th>\n",
       "      <th>month</th>\n",
       "      <th>day</th>\n",
       "    </tr>\n",
       "  </thead>\n",
       "  <tbody>\n",
       "    <tr>\n",
       "      <th>0</th>\n",
       "      <td>2016-02-01</td>\n",
       "      <td>월</td>\n",
       "      <td>2601</td>\n",
       "      <td>50</td>\n",
       "      <td>150</td>\n",
       "      <td>238</td>\n",
       "      <td>0.0</td>\n",
       "      <td>1039.0</td>\n",
       "      <td>331.0</td>\n",
       "      <td>0.155443</td>\n",
       "      <td>...</td>\n",
       "      <td>0.250646</td>\n",
       "      <td>0.127986</td>\n",
       "      <td>0.550941</td>\n",
       "      <td>-0.815261</td>\n",
       "      <td>-0.354771</td>\n",
       "      <td>-0.467205</td>\n",
       "      <td>-0.213537</td>\n",
       "      <td>2016</td>\n",
       "      <td>2</td>\n",
       "      <td>1</td>\n",
       "    </tr>\n",
       "    <tr>\n",
       "      <th>1</th>\n",
       "      <td>2016-02-02</td>\n",
       "      <td>화</td>\n",
       "      <td>2601</td>\n",
       "      <td>50</td>\n",
       "      <td>173</td>\n",
       "      <td>319</td>\n",
       "      <td>0.0</td>\n",
       "      <td>867.0</td>\n",
       "      <td>560.0</td>\n",
       "      <td>0.411054</td>\n",
       "      <td>...</td>\n",
       "      <td>0.088266</td>\n",
       "      <td>0.068821</td>\n",
       "      <td>0.651381</td>\n",
       "      <td>-0.975017</td>\n",
       "      <td>-0.925231</td>\n",
       "      <td>-0.146614</td>\n",
       "      <td>0.405589</td>\n",
       "      <td>2016</td>\n",
       "      <td>2</td>\n",
       "      <td>2</td>\n",
       "    </tr>\n",
       "  </tbody>\n",
       "</table>\n",
       "<p>2 rows × 162 columns</p>\n",
       "</div>"
      ],
      "text/plain": [
       "         date week  본사정원수  본사휴가자수  본사출장자수  본사시간외근무명령서승인건수  현본사소속재택근무자수  \\\n",
       "0  2016-02-01    월   2601      50     150             238          0.0   \n",
       "1  2016-02-02    화   2601      50     173             319          0.0   \n",
       "\n",
       "      중식계    석식계       조식1  ...      석식44      석식45      석식46      석식47  \\\n",
       "0  1039.0  331.0  0.155443  ...  0.250646  0.127986  0.550941 -0.815261   \n",
       "1   867.0  560.0  0.411054  ...  0.088266  0.068821  0.651381 -0.975017   \n",
       "\n",
       "       석식48      석식49      석식50  year  month  day  \n",
       "0 -0.354771 -0.467205 -0.213537  2016      2    1  \n",
       "1 -0.925231 -0.146614  0.405589  2016      2    2  \n",
       "\n",
       "[2 rows x 162 columns]"
      ]
     },
     "execution_count": 11,
     "metadata": {},
     "output_type": "execute_result"
    }
   ],
   "source": [
    "test_df.head(2)"
   ]
  },
  {
   "cell_type": "code",
   "execution_count": 12,
   "metadata": {
    "colab": {
     "base_uri": "https://localhost:8080/"
    },
    "id": "GZeghMkTi_5r",
    "outputId": "e8ee7977-4763-460b-b96d-8b2547d30218"
   },
   "outputs": [
    {
     "data": {
      "text/plain": [
       "((1205, 161), (1205, 161))"
      ]
     },
     "execution_count": 12,
     "metadata": {},
     "output_type": "execute_result"
    }
   ],
   "source": [
    "# 기존 날짜 피처 삭제\n",
    "train_df.drop(columns=['date'], inplace=True)\n",
    "test_df.drop(columns=['date'], inplace=True)\n",
    "\n",
    "train_df.shape, test_df.shape"
   ]
  },
  {
   "cell_type": "code",
   "execution_count": 13,
   "metadata": {
    "colab": {
     "base_uri": "https://localhost:8080/",
     "height": 234
    },
    "id": "a3KCy8u1QY7T",
    "outputId": "5849e79c-d50d-465e-a3ec-88743529bb8c"
   },
   "outputs": [
    {
     "data": {
      "text/html": [
       "<div>\n",
       "<style scoped>\n",
       "    .dataframe tbody tr th:only-of-type {\n",
       "        vertical-align: middle;\n",
       "    }\n",
       "\n",
       "    .dataframe tbody tr th {\n",
       "        vertical-align: top;\n",
       "    }\n",
       "\n",
       "    .dataframe thead th {\n",
       "        text-align: right;\n",
       "    }\n",
       "</style>\n",
       "<table border=\"1\" class=\"dataframe\">\n",
       "  <thead>\n",
       "    <tr style=\"text-align: right;\">\n",
       "      <th></th>\n",
       "      <th>week</th>\n",
       "      <th>본사정원수</th>\n",
       "      <th>본사휴가자수</th>\n",
       "      <th>본사출장자수</th>\n",
       "      <th>본사시간외근무명령서승인건수</th>\n",
       "      <th>현본사소속재택근무자수</th>\n",
       "      <th>중식계</th>\n",
       "      <th>석식계</th>\n",
       "      <th>조식1</th>\n",
       "      <th>조식2</th>\n",
       "      <th>...</th>\n",
       "      <th>석식44</th>\n",
       "      <th>석식45</th>\n",
       "      <th>석식46</th>\n",
       "      <th>석식47</th>\n",
       "      <th>석식48</th>\n",
       "      <th>석식49</th>\n",
       "      <th>석식50</th>\n",
       "      <th>year</th>\n",
       "      <th>month</th>\n",
       "      <th>day</th>\n",
       "    </tr>\n",
       "  </thead>\n",
       "  <tbody>\n",
       "    <tr>\n",
       "      <th>0</th>\n",
       "      <td>0</td>\n",
       "      <td>2601</td>\n",
       "      <td>50</td>\n",
       "      <td>150</td>\n",
       "      <td>238</td>\n",
       "      <td>0.0</td>\n",
       "      <td>1039.0</td>\n",
       "      <td>331.0</td>\n",
       "      <td>0.155443</td>\n",
       "      <td>0.749417</td>\n",
       "      <td>...</td>\n",
       "      <td>0.250646</td>\n",
       "      <td>0.127986</td>\n",
       "      <td>0.550941</td>\n",
       "      <td>-0.815261</td>\n",
       "      <td>-0.354771</td>\n",
       "      <td>-0.467205</td>\n",
       "      <td>-0.213537</td>\n",
       "      <td>2016</td>\n",
       "      <td>2</td>\n",
       "      <td>1</td>\n",
       "    </tr>\n",
       "    <tr>\n",
       "      <th>1</th>\n",
       "      <td>1</td>\n",
       "      <td>2601</td>\n",
       "      <td>50</td>\n",
       "      <td>173</td>\n",
       "      <td>319</td>\n",
       "      <td>0.0</td>\n",
       "      <td>867.0</td>\n",
       "      <td>560.0</td>\n",
       "      <td>0.411054</td>\n",
       "      <td>0.699290</td>\n",
       "      <td>...</td>\n",
       "      <td>0.088266</td>\n",
       "      <td>0.068821</td>\n",
       "      <td>0.651381</td>\n",
       "      <td>-0.975017</td>\n",
       "      <td>-0.925231</td>\n",
       "      <td>-0.146614</td>\n",
       "      <td>0.405589</td>\n",
       "      <td>2016</td>\n",
       "      <td>2</td>\n",
       "      <td>2</td>\n",
       "    </tr>\n",
       "    <tr>\n",
       "      <th>2</th>\n",
       "      <td>2</td>\n",
       "      <td>2601</td>\n",
       "      <td>56</td>\n",
       "      <td>180</td>\n",
       "      <td>111</td>\n",
       "      <td>0.0</td>\n",
       "      <td>1017.0</td>\n",
       "      <td>573.0</td>\n",
       "      <td>0.257978</td>\n",
       "      <td>0.434443</td>\n",
       "      <td>...</td>\n",
       "      <td>0.443573</td>\n",
       "      <td>0.274533</td>\n",
       "      <td>1.168624</td>\n",
       "      <td>-0.740611</td>\n",
       "      <td>-0.684546</td>\n",
       "      <td>0.015721</td>\n",
       "      <td>0.389435</td>\n",
       "      <td>2016</td>\n",
       "      <td>2</td>\n",
       "      <td>3</td>\n",
       "    </tr>\n",
       "  </tbody>\n",
       "</table>\n",
       "<p>3 rows × 161 columns</p>\n",
       "</div>"
      ],
      "text/plain": [
       "   week  본사정원수  본사휴가자수  본사출장자수  본사시간외근무명령서승인건수  현본사소속재택근무자수     중식계    석식계  \\\n",
       "0     0   2601      50     150             238          0.0  1039.0  331.0   \n",
       "1     1   2601      50     173             319          0.0   867.0  560.0   \n",
       "2     2   2601      56     180             111          0.0  1017.0  573.0   \n",
       "\n",
       "        조식1       조식2  ...      석식44      석식45      석식46      석식47      석식48  \\\n",
       "0  0.155443  0.749417  ...  0.250646  0.127986  0.550941 -0.815261 -0.354771   \n",
       "1  0.411054  0.699290  ...  0.088266  0.068821  0.651381 -0.975017 -0.925231   \n",
       "2  0.257978  0.434443  ...  0.443573  0.274533  1.168624 -0.740611 -0.684546   \n",
       "\n",
       "       석식49      석식50  year  month  day  \n",
       "0 -0.467205 -0.213537  2016      2    1  \n",
       "1 -0.146614  0.405589  2016      2    2  \n",
       "2  0.015721  0.389435  2016      2    3  \n",
       "\n",
       "[3 rows x 161 columns]"
      ]
     },
     "execution_count": 13,
     "metadata": {},
     "output_type": "execute_result"
    }
   ],
   "source": [
    "train_df.replace({\"week\": [\"월\",\"화\",\"수\",\"목\",\"금\"] }, {\"week\": [0,1,2,3,4] }, inplace = True)\n",
    "test_df.replace({\"week\": [\"월\",\"화\",\"수\",\"목\",\"금\"] }, {\"week\": [0,1,2,3,4] }, inplace = True)\n",
    "train_df.head(3)"
   ]
  },
  {
   "cell_type": "code",
   "execution_count": 14,
   "metadata": {
    "colab": {
     "base_uri": "https://localhost:8080/",
     "height": 234
    },
    "id": "2DWR35EnlKx4",
    "outputId": "957426e3-abf0-4418-f3dc-707bf8bf5868"
   },
   "outputs": [
    {
     "data": {
      "text/html": [
       "<div>\n",
       "<style scoped>\n",
       "    .dataframe tbody tr th:only-of-type {\n",
       "        vertical-align: middle;\n",
       "    }\n",
       "\n",
       "    .dataframe tbody tr th {\n",
       "        vertical-align: top;\n",
       "    }\n",
       "\n",
       "    .dataframe thead th {\n",
       "        text-align: right;\n",
       "    }\n",
       "</style>\n",
       "<table border=\"1\" class=\"dataframe\">\n",
       "  <thead>\n",
       "    <tr style=\"text-align: right;\">\n",
       "      <th></th>\n",
       "      <th>week</th>\n",
       "      <th>본사정원수</th>\n",
       "      <th>본사휴가자수</th>\n",
       "      <th>본사출장자수</th>\n",
       "      <th>본사시간외근무명령서승인건수</th>\n",
       "      <th>현본사소속재택근무자수</th>\n",
       "      <th>중식계</th>\n",
       "      <th>석식계</th>\n",
       "      <th>조식1</th>\n",
       "      <th>조식2</th>\n",
       "      <th>...</th>\n",
       "      <th>석식44</th>\n",
       "      <th>석식45</th>\n",
       "      <th>석식46</th>\n",
       "      <th>석식47</th>\n",
       "      <th>석식48</th>\n",
       "      <th>석식49</th>\n",
       "      <th>석식50</th>\n",
       "      <th>year</th>\n",
       "      <th>month</th>\n",
       "      <th>day</th>\n",
       "    </tr>\n",
       "  </thead>\n",
       "  <tbody>\n",
       "    <tr>\n",
       "      <th>0</th>\n",
       "      <td>0</td>\n",
       "      <td>2601</td>\n",
       "      <td>50</td>\n",
       "      <td>150</td>\n",
       "      <td>238</td>\n",
       "      <td>0.0</td>\n",
       "      <td>1039.0</td>\n",
       "      <td>331.0</td>\n",
       "      <td>0.155443</td>\n",
       "      <td>0.749417</td>\n",
       "      <td>...</td>\n",
       "      <td>0.250646</td>\n",
       "      <td>0.127986</td>\n",
       "      <td>0.550941</td>\n",
       "      <td>-0.815261</td>\n",
       "      <td>-0.354771</td>\n",
       "      <td>-0.467205</td>\n",
       "      <td>-0.213537</td>\n",
       "      <td>2016</td>\n",
       "      <td>2</td>\n",
       "      <td>1</td>\n",
       "    </tr>\n",
       "    <tr>\n",
       "      <th>1</th>\n",
       "      <td>1</td>\n",
       "      <td>2601</td>\n",
       "      <td>50</td>\n",
       "      <td>173</td>\n",
       "      <td>319</td>\n",
       "      <td>0.0</td>\n",
       "      <td>867.0</td>\n",
       "      <td>560.0</td>\n",
       "      <td>0.411054</td>\n",
       "      <td>0.699290</td>\n",
       "      <td>...</td>\n",
       "      <td>0.088266</td>\n",
       "      <td>0.068821</td>\n",
       "      <td>0.651381</td>\n",
       "      <td>-0.975017</td>\n",
       "      <td>-0.925231</td>\n",
       "      <td>-0.146614</td>\n",
       "      <td>0.405589</td>\n",
       "      <td>2016</td>\n",
       "      <td>2</td>\n",
       "      <td>2</td>\n",
       "    </tr>\n",
       "    <tr>\n",
       "      <th>2</th>\n",
       "      <td>2</td>\n",
       "      <td>2601</td>\n",
       "      <td>56</td>\n",
       "      <td>180</td>\n",
       "      <td>111</td>\n",
       "      <td>0.0</td>\n",
       "      <td>1017.0</td>\n",
       "      <td>573.0</td>\n",
       "      <td>0.257978</td>\n",
       "      <td>0.434443</td>\n",
       "      <td>...</td>\n",
       "      <td>0.443573</td>\n",
       "      <td>0.274533</td>\n",
       "      <td>1.168624</td>\n",
       "      <td>-0.740611</td>\n",
       "      <td>-0.684546</td>\n",
       "      <td>0.015721</td>\n",
       "      <td>0.389435</td>\n",
       "      <td>2016</td>\n",
       "      <td>2</td>\n",
       "      <td>3</td>\n",
       "    </tr>\n",
       "  </tbody>\n",
       "</table>\n",
       "<p>3 rows × 161 columns</p>\n",
       "</div>"
      ],
      "text/plain": [
       "   week  본사정원수  본사휴가자수  본사출장자수  본사시간외근무명령서승인건수  현본사소속재택근무자수     중식계    석식계  \\\n",
       "0     0   2601      50     150             238          0.0  1039.0  331.0   \n",
       "1     1   2601      50     173             319          0.0   867.0  560.0   \n",
       "2     2   2601      56     180             111          0.0  1017.0  573.0   \n",
       "\n",
       "        조식1       조식2  ...      석식44      석식45      석식46      석식47      석식48  \\\n",
       "0  0.155443  0.749417  ...  0.250646  0.127986  0.550941 -0.815261 -0.354771   \n",
       "1  0.411054  0.699290  ...  0.088266  0.068821  0.651381 -0.975017 -0.925231   \n",
       "2  0.257978  0.434443  ...  0.443573  0.274533  1.168624 -0.740611 -0.684546   \n",
       "\n",
       "       석식49      석식50  year  month  day  \n",
       "0 -0.467205 -0.213537  2016      2    1  \n",
       "1 -0.146614  0.405589  2016      2    2  \n",
       "2  0.015721  0.389435  2016      2    3  \n",
       "\n",
       "[3 rows x 161 columns]"
      ]
     },
     "execution_count": 14,
     "metadata": {},
     "output_type": "execute_result"
    }
   ],
   "source": [
    "test_df.replace({\"week\": [\"월\",\"화\",\"수\",\"목\",\"금\"] }, {\"week\": [0,1,2,3,4] }, inplace = True)\n",
    "test_df.replace({\"week\": [\"월\",\"화\",\"수\",\"목\",\"금\"] }, {\"week\": [0,1,2,3,4] }, inplace = True)\n",
    "test_df.head(3)"
   ]
  },
  {
   "cell_type": "code",
   "execution_count": 15,
   "metadata": {
    "id": "f5soOgw3Vgqw"
   },
   "outputs": [],
   "source": [
    "train_df['week'] = train_df['week'].astype('category')"
   ]
  },
  {
   "cell_type": "code",
   "execution_count": 16,
   "metadata": {
    "id": "V9pZaEkKlPPf"
   },
   "outputs": [],
   "source": [
    "test_df['week'] = train_df['week'].astype('category')"
   ]
  },
  {
   "cell_type": "code",
   "execution_count": 17,
   "metadata": {
    "colab": {
     "base_uri": "https://localhost:8080/"
    },
    "id": "AeqYi42njSzG",
    "outputId": "7372ecf4-8d29-4589-8b1f-27703b464339"
   },
   "outputs": [
    {
     "data": {
      "text/plain": [
       "week              0\n",
       "본사정원수             0\n",
       "본사휴가자수            0\n",
       "본사출장자수            0\n",
       "본사시간외근무명령서승인건수    0\n",
       "                 ..\n",
       "석식49              0\n",
       "석식50              0\n",
       "year              0\n",
       "month             0\n",
       "day               0\n",
       "Length: 161, dtype: int64"
      ]
     },
     "execution_count": 17,
     "metadata": {},
     "output_type": "execute_result"
    }
   ],
   "source": [
    "train_df.isna().sum()"
   ]
  },
  {
   "cell_type": "code",
   "execution_count": 18,
   "metadata": {
    "id": "s-wtmzSUV4BI"
   },
   "outputs": [],
   "source": [
    "#\n",
    "target_col1 = '중식계'\n",
    "target_col2 = '석식계'\n",
    "train_cols = [col for col in train_df.columns if col not in [target_col1 , target_col2]]"
   ]
  },
  {
   "cell_type": "markdown",
   "metadata": {
    "id": "0169dHnsaprh"
   },
   "source": [
    "###**LGBM** "
   ]
  },
  {
   "cell_type": "code",
   "execution_count": 19,
   "metadata": {
    "id": "wgbSmtuIX1Dl"
   },
   "outputs": [],
   "source": [
    "from sklearn.model_selection import GridSearchCV , cross_val_score\n",
    "import lightgbm as lgb\n",
    "from sklearn.metrics import mean_absolute_error"
   ]
  },
  {
   "cell_type": "code",
   "execution_count": 20,
   "metadata": {
    "id": "Z8pUlsYpcMIV"
   },
   "outputs": [],
   "source": [
    "def get_val_score(model):\n",
    "    val_pred = model.predict_proba(X_valid)\n",
    "    return  mean_absolute_error(y_valid,val_pred[:,1])"
   ]
  },
  {
   "cell_type": "code",
   "execution_count": null,
   "metadata": {
    "colab": {
     "base_uri": "https://localhost:8080/"
    },
    "id": "Ox4UZnOyZBU5",
    "outputId": "0a3462c7-362b-4ad1-f4b3-1d7d0969dfe3"
   },
   "outputs": [],
   "source": [
    "#'중식계'\n",
    "\n",
    "X_train, X_valid, y_train, y_valid = train_test_split(train_df[train_cols], train_df[target_col1], test_size=0.2, shuffle=True, random_state=34)\n",
    "\n",
    "lgb_params = {\n",
    "     'max_depth' : [3,5,7] , \n",
    "     'n_estimators': [300,600,900,1200], \n",
    "     'learning_rate':[0.01,0.1], \n",
    "     'gamma': [0.5], \n",
    "     'random_state':[99] }\n",
    "\n",
    "model = lgb.LGBMRegressor(eval_set=[(X_valid, y_valid)],eval_metric = 'mae')\n",
    "\n",
    "\n",
    "grid_lgb = GridSearchCV(model, param_grid=lgb_params, cv=3)\n",
    "grid_lgb.fit(X_train, y_train)\n",
    "print(grid_lgb.best_params_)\n",
    "\n",
    "#Get score\n",
    "print(\"=\"*20)\n",
    "#print(\"LGBM Validation MAE : \", get_val_score(grid_lgb))\n",
    "print(\"Model1 Score: \",grid_lgb.score(X_valid,y_valid))\n",
    "print(\"MAE:\",mean_absolute_error(y_valid, grid_lgb.predict(X_valid)))"
   ]
  },
  {
   "cell_type": "code",
   "execution_count": 23,
   "metadata": {
    "id": "IHpWGGACjQIc"
   },
   "outputs": [
    {
     "ename": "ValueError",
     "evalue": "Number of features of the model must match the input. Model n_features_ is 159 and input n_features is 161 ",
     "output_type": "error",
     "traceback": [
      "\u001b[0;31m---------------------------------------------------------------------------\u001b[0m",
      "\u001b[0;31mValueError\u001b[0m                                Traceback (most recent call last)",
      "Input \u001b[0;32mIn [23]\u001b[0m, in \u001b[0;36m<cell line: 1>\u001b[0;34m()\u001b[0m\n\u001b[0;32m----> 1\u001b[0m pred1 \u001b[38;5;241m=\u001b[39m \u001b[43mgrid_lgb\u001b[49m\u001b[38;5;241;43m.\u001b[39;49m\u001b[43mpredict\u001b[49m\u001b[43m(\u001b[49m\u001b[43mtest_df\u001b[49m\u001b[43m)\u001b[49m\n",
      "File \u001b[0;32m~/opt/anaconda3/lib/python3.9/site-packages/sklearn/model_selection/_search.py:500\u001b[0m, in \u001b[0;36mBaseSearchCV.predict\u001b[0;34m(self, X)\u001b[0m\n\u001b[1;32m    482\u001b[0m \u001b[38;5;124;03m\"\"\"Call predict on the estimator with the best found parameters.\u001b[39;00m\n\u001b[1;32m    483\u001b[0m \n\u001b[1;32m    484\u001b[0m \u001b[38;5;124;03mOnly available if ``refit=True`` and the underlying estimator supports\u001b[39;00m\n\u001b[0;32m   (...)\u001b[0m\n\u001b[1;32m    497\u001b[0m \u001b[38;5;124;03m    the best found parameters.\u001b[39;00m\n\u001b[1;32m    498\u001b[0m \u001b[38;5;124;03m\"\"\"\u001b[39;00m\n\u001b[1;32m    499\u001b[0m check_is_fitted(\u001b[38;5;28mself\u001b[39m)\n\u001b[0;32m--> 500\u001b[0m \u001b[38;5;28;01mreturn\u001b[39;00m \u001b[38;5;28;43mself\u001b[39;49m\u001b[38;5;241;43m.\u001b[39;49m\u001b[43mbest_estimator_\u001b[49m\u001b[38;5;241;43m.\u001b[39;49m\u001b[43mpredict\u001b[49m\u001b[43m(\u001b[49m\u001b[43mX\u001b[49m\u001b[43m)\u001b[49m\n",
      "File \u001b[0;32m~/opt/anaconda3/lib/python3.9/site-packages/lightgbm/sklearn.py:722\u001b[0m, in \u001b[0;36mLGBMModel.predict\u001b[0;34m(self, X, raw_score, start_iteration, num_iteration, pred_leaf, pred_contrib, **kwargs)\u001b[0m\n\u001b[1;32m    720\u001b[0m n_features \u001b[38;5;241m=\u001b[39m X\u001b[38;5;241m.\u001b[39mshape[\u001b[38;5;241m1\u001b[39m]\n\u001b[1;32m    721\u001b[0m \u001b[38;5;28;01mif\u001b[39;00m \u001b[38;5;28mself\u001b[39m\u001b[38;5;241m.\u001b[39m_n_features \u001b[38;5;241m!=\u001b[39m n_features:\n\u001b[0;32m--> 722\u001b[0m     \u001b[38;5;28;01mraise\u001b[39;00m \u001b[38;5;167;01mValueError\u001b[39;00m(\u001b[38;5;124m\"\u001b[39m\u001b[38;5;124mNumber of features of the model must \u001b[39m\u001b[38;5;124m\"\u001b[39m\n\u001b[1;32m    723\u001b[0m                      \u001b[38;5;124m\"\u001b[39m\u001b[38;5;124mmatch the input. Model n_features_ is \u001b[39m\u001b[38;5;132;01m%s\u001b[39;00m\u001b[38;5;124m and \u001b[39m\u001b[38;5;124m\"\u001b[39m\n\u001b[1;32m    724\u001b[0m                      \u001b[38;5;124m\"\u001b[39m\u001b[38;5;124minput n_features is \u001b[39m\u001b[38;5;132;01m%s\u001b[39;00m\u001b[38;5;124m \u001b[39m\u001b[38;5;124m\"\u001b[39m\n\u001b[1;32m    725\u001b[0m                      \u001b[38;5;241m%\u001b[39m (\u001b[38;5;28mself\u001b[39m\u001b[38;5;241m.\u001b[39m_n_features, n_features))\n\u001b[1;32m    726\u001b[0m \u001b[38;5;28;01mreturn\u001b[39;00m \u001b[38;5;28mself\u001b[39m\u001b[38;5;241m.\u001b[39m_Booster\u001b[38;5;241m.\u001b[39mpredict(X, raw_score\u001b[38;5;241m=\u001b[39mraw_score, start_iteration\u001b[38;5;241m=\u001b[39mstart_iteration, num_iteration\u001b[38;5;241m=\u001b[39mnum_iteration,\n\u001b[1;32m    727\u001b[0m                              pred_leaf\u001b[38;5;241m=\u001b[39mpred_leaf, pred_contrib\u001b[38;5;241m=\u001b[39mpred_contrib, \u001b[38;5;241m*\u001b[39m\u001b[38;5;241m*\u001b[39mkwargs)\n",
      "\u001b[0;31mValueError\u001b[0m: Number of features of the model must match the input. Model n_features_ is 159 and input n_features is 161 "
     ]
    }
   ],
   "source": [
    "pred1 = grid_lgb.predict(test_df)"
   ]
  },
  {
   "cell_type": "code",
   "execution_count": null,
   "metadata": {
    "colab": {
     "base_uri": "https://localhost:8080/"
    },
    "id": "wqONiksalUFu",
    "outputId": "f47cfb29-4e15-4dc1-be24-5aa382b4c9cd"
   },
   "outputs": [],
   "source": [
    "pred1"
   ]
  },
  {
   "cell_type": "code",
   "execution_count": null,
   "metadata": {
    "colab": {
     "base_uri": "https://localhost:8080/"
    },
    "id": "sJrWMzKKhtWT",
    "outputId": "7a962c0b-82ff-44ee-abec-63c6d6c86f13"
   },
   "outputs": [],
   "source": [
    "#'석식계'\n",
    "\n",
    "X_train, X_valid, y_train, y_valid = train_test_split(train_df[train_cols], train_df[target_col2], test_size=0.2, shuffle=True, random_state=34)\n",
    "\n",
    "lgb_params = {\n",
    "     'max_depth' : [3,5,7] , \n",
    "     'n_estimators': [1000,1200,1500], \n",
    "     'learning_rate':[0.01,0.1], \n",
    "     'gamma': [0.5], \n",
    "     'random_state':[99] } \n",
    "\n",
    "model = lgb.LGBMRegressor(eval_set=[(X_valid, y_valid)],eval_metric = 'mae')\n",
    "\n",
    "\n",
    "grid_lgb = GridSearchCV(model, param_grid=lgb_params, cv=3)\n",
    "grid_lgb.fit(X_train, y_train)\n",
    "print(grid_lgb.best_params_)\n",
    "\n",
    "#Get score\n",
    "print(\"=\"*20)\n",
    "print(\"Model2 Score: \",grid_lgb.score(X_valid,y_valid))\n",
    "print(\"MAE:\",mean_absolute_error(y_valid, grid_lgb.predict(X_valid)))"
   ]
  },
  {
   "cell_type": "code",
   "execution_count": null,
   "metadata": {
    "id": "1KY8aPdejSal"
   },
   "outputs": [],
   "source": [
    "pred2 = grid_lgb.predict(test_df)"
   ]
  },
  {
   "cell_type": "code",
   "execution_count": null,
   "metadata": {
    "colab": {
     "base_uri": "https://localhost:8080/"
    },
    "id": "DyE8OurznDUi",
    "outputId": "90846dcf-6c11-48ff-afc6-866eddd7fa15"
   },
   "outputs": [],
   "source": [
    "pred2"
   ]
  },
  {
   "cell_type": "markdown",
   "metadata": {
    "id": "eOvry06kld7F"
   },
   "source": [
    "###**LinearReg**"
   ]
  },
  {
   "cell_type": "code",
   "execution_count": null,
   "metadata": {
    "id": "zPacY3OktH4m"
   },
   "outputs": [],
   "source": [
    "from sklearn.linear_model import LinearRegression"
   ]
  },
  {
   "cell_type": "code",
   "execution_count": 93,
   "metadata": {
    "colab": {
     "base_uri": "https://localhost:8080/"
    },
    "id": "MXbPgDmMnHac",
    "outputId": "f5f45299-ec2a-4e74-da32-ac291f919111"
   },
   "outputs": [
    {
     "name": "stdout",
     "output_type": "stream",
     "text": [
      "Model3 Score:  0.727622124834058\n",
      "MAE: 84.37756109587967\n"
     ]
    }
   ],
   "source": [
    "# '중식계'\n",
    "\n",
    "X_train, X_valid, y_train, y_valid = train_test_split(train_df[train_cols], train_df[target_col1], test_size=0.2, shuffle=True, random_state=34)\n",
    "\n",
    "lin_reg = LinearRegression()\n",
    "\n",
    "lin_reg.fit(X_train,y_train)\n",
    "y_valid_predict = lin_reg.predict(X_valid)\n",
    "\n",
    "print(\"Model3 Score: \",lin_reg.score(X_valid,y_valid))\n",
    "print(\"MAE:\",mean_absolute_error(y_valid, lin_reg.predict(X_valid)))"
   ]
  },
  {
   "cell_type": "code",
   "execution_count": 94,
   "metadata": {
    "id": "nvdG6XSsvSLs"
   },
   "outputs": [],
   "source": [
    "pred3 = lin_reg.predict(test_df)"
   ]
  },
  {
   "cell_type": "code",
   "execution_count": 95,
   "metadata": {
    "colab": {
     "base_uri": "https://localhost:8080/"
    },
    "id": "v4asWU6HvYPx",
    "outputId": "6f414336-4163-4c8d-de3c-764415dc163d"
   },
   "outputs": [
    {
     "data": {
      "text/plain": [
       "array([1009.27593444, 1075.31746829,  790.82969396, 1154.4895111 ,\n",
       "        896.14090441,  963.36612572,  984.03318554,  841.41766831,\n",
       "       1213.78342321,  906.05244642,  798.69393761, 1111.73127169,\n",
       "       1187.9911585 , 1023.71766862, 1027.65967718,  700.37065613,\n",
       "       1017.71352328, 1067.16605844,  902.62620993,  959.92501724,\n",
       "        493.64399106, 1222.53720112, 1000.05515476,  988.71985384,\n",
       "        775.15451199, 1062.26390624, 1210.25764818,  787.01161236,\n",
       "       1079.35822309,  796.15760865, 1118.91737262, 1125.96319864,\n",
       "       1049.3174058 ,  970.04818647,  668.58621764, 1089.15505291,\n",
       "       1183.54976034,  877.72429135,  813.24620861,  631.77280653,\n",
       "        994.62467849, 1035.83299109,  912.31029461,  994.01859163,\n",
       "        652.08579549, 1008.23319651, 1170.95455107, 1072.58993399,\n",
       "        941.37537666,  596.05653737])"
      ]
     },
     "execution_count": 95,
     "metadata": {},
     "output_type": "execute_result"
    }
   ],
   "source": [
    "pred3"
   ]
  },
  {
   "cell_type": "code",
   "execution_count": 96,
   "metadata": {
    "colab": {
     "base_uri": "https://localhost:8080/"
    },
    "id": "QxSYHTIjngFj",
    "outputId": "3a52748f-7e84-4aeb-a4e9-4262badcba0c"
   },
   "outputs": [
    {
     "name": "stdout",
     "output_type": "stream",
     "text": [
      "Model4 Score:  0.6755819638002729\n",
      "MAE: 58.500190789470096\n"
     ]
    }
   ],
   "source": [
    "# '석식계'\n",
    "\n",
    "X_train, X_valid, y_train, y_valid = train_test_split(train_df[train_cols], train_df[target_col2], test_size=0.2, shuffle=True, random_state=34)\n",
    "\n",
    "lin_reg = LinearRegression()\n",
    "\n",
    "lin_reg.fit(X_train,y_train)\n",
    "y_valid_predict = lin_reg.predict(X_valid)\n",
    "\n",
    "\n",
    "print(\"Model4 Score: \",lin_reg.score(X_valid,y_valid))\n",
    "print(\"MAE:\",mean_absolute_error(y_valid, lin_reg.predict(X_valid)))"
   ]
  },
  {
   "cell_type": "code",
   "execution_count": 97,
   "metadata": {
    "id": "HtJqc1FXvN69"
   },
   "outputs": [],
   "source": [
    "pred4 = lin_reg.predict(test_df)"
   ]
  },
  {
   "cell_type": "code",
   "execution_count": 98,
   "metadata": {
    "colab": {
     "base_uri": "https://localhost:8080/"
    },
    "id": "80W21DBVvdR4",
    "outputId": "6acb9ded-1c60-4de0-897a-0d5554e79fa3"
   },
   "outputs": [
    {
     "data": {
      "text/plain": [
       "array([286.10596878, 142.58707396, 307.05663669, 564.73818188,\n",
       "       359.05819939,  24.5498509 , 449.07920762, 358.48571106,\n",
       "       481.25375748, 410.73045506, 313.87374151, 567.43083737,\n",
       "       538.80479786, 442.50574464, 448.2332223 , 242.08622712,\n",
       "       633.03774413, 519.24102826, 436.91698441, 545.7993373 ,\n",
       "       319.18249338, 544.75384646, 359.48540877, 587.88784845,\n",
       "       375.56263594, 674.86368903, 569.70252353, 315.64708572,\n",
       "       191.78502776, 364.9110915 , 698.42669583, 502.78231917,\n",
       "       419.05661993, 556.21093389, 340.58095835, 637.63737584,\n",
       "       505.28119621, 310.4475846 , 309.56632795, 336.04994102,\n",
       "       643.82332259, 452.52101629, 309.28726141, 442.93943134,\n",
       "       308.16555174, 608.81297065, 495.05527552, 403.31572289,\n",
       "       394.46033574, 291.70403288])"
      ]
     },
     "execution_count": 98,
     "metadata": {},
     "output_type": "execute_result"
    }
   ],
   "source": [
    "pred4"
   ]
  }
 ],
 "metadata": {
  "colab": {
   "name": "식수modeling.ipynb",
   "provenance": []
  },
  "kernelspec": {
   "display_name": "Python 3 (ipykernel)",
   "language": "python",
   "name": "python3"
  },
  "language_info": {
   "codemirror_mode": {
    "name": "ipython",
    "version": 3
   },
   "file_extension": ".py",
   "mimetype": "text/x-python",
   "name": "python",
   "nbconvert_exporter": "python",
   "pygments_lexer": "ipython3",
   "version": "3.9.12"
  }
 },
 "nbformat": 4,
 "nbformat_minor": 4
}
